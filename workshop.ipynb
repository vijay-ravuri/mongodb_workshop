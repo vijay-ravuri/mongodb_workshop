{
 "cells": [
  {
   "cell_type": "markdown",
   "metadata": {},
   "source": [
    "## CRUD Workshop\n",
    "\n",
    "This next cell installs the pymongo package, remove the comment ('#') and run the cell."
   ]
  },
  {
   "cell_type": "code",
   "execution_count": null,
   "metadata": {},
   "outputs": [],
   "source": [
    "# !pip install pymongo"
   ]
  },
  {
   "cell_type": "code",
   "execution_count": null,
   "metadata": {},
   "outputs": [],
   "source": [
    "# import the pymongo module\n",
    "import pymongo"
   ]
  },
  {
   "cell_type": "code",
   "execution_count": null,
   "metadata": {},
   "outputs": [],
   "source": [
    "# replace <NUMBER> with the number assigned -- workshop_user0 is the default if you did not attend the workshop\n",
    "# This segment: workshop_user<NUMBER>:workshoppassword1 is the username:password for a user of the cluster hosted on MongoDB Atlas\n",
    "client = pymongo.MongoClient('mongodb+srv://workshop_user<NUMBER>:workshoppassword1@cluster0.cc8e2sn.mongodb.net/')"
   ]
  },
  {
   "cell_type": "code",
   "execution_count": null,
   "metadata": {},
   "outputs": [],
   "source": [
    "# this method will fail if you did not connect to the client properly (check your URI)\n",
    "client.list_database_names()"
   ]
  },
  {
   "cell_type": "code",
   "execution_count": null,
   "metadata": {},
   "outputs": [],
   "source": []
  },
  {
   "cell_type": "code",
   "execution_count": null,
   "metadata": {},
   "outputs": [],
   "source": []
  },
  {
   "cell_type": "code",
   "execution_count": null,
   "metadata": {},
   "outputs": [],
   "source": []
  },
  {
   "cell_type": "code",
   "execution_count": null,
   "metadata": {},
   "outputs": [],
   "source": []
  },
  {
   "cell_type": "code",
   "execution_count": null,
   "metadata": {},
   "outputs": [],
   "source": []
  },
  {
   "cell_type": "code",
   "execution_count": null,
   "metadata": {},
   "outputs": [],
   "source": []
  },
  {
   "cell_type": "markdown",
   "metadata": {},
   "source": [
    "The cell below contains code to make a copy of the 'songs' collection for your own use, replace 'NAME' with your name and remove the comments to create your copy of the collection. 'db' refers to the 'workshop' database, if you named it something else earlier please replace 'db' with whatever the variable is named or with 'client['workshop']'."
   ]
  },
  {
   "cell_type": "code",
   "execution_count": null,
   "metadata": {},
   "outputs": [],
   "source": [
    "# db['songs'].aggregate(\n",
    "#     [\n",
    "#         {'$limit' : 200},\n",
    "#         {'$out' : 'songs_NAME'}\n",
    "#     ]\n",
    "# )"
   ]
  }
 ],
 "metadata": {
  "language_info": {
   "name": "python"
  }
 },
 "nbformat": 4,
 "nbformat_minor": 2
}
